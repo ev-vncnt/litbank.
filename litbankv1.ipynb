{
 "cells": [
  {
   "cell_type": "markdown",
   "id": "36e9a5ef",
   "metadata": {},
   "source": [
    "# litbank.\n",
    "a powerful content-based book recommendation engine\n",
    "\n",
    "\n",
    "## Dataset Information\n",
    "The dataset may need to be split into training and test sets.\n",
    "\n",
    "The training set is:\n",
    "\n",
    "The test set is: \n",
    "\n",
    "### Tech Stack:\n",
    "Programming Langauge: Python\n",
    "\n",
    "LLM Engine: Ollama - for running local LLMs to process text and generate embeddings\n",
    "\n",
    "**Python Libraries**\n",
    "- pandas - used to perform data manipulation and analysis\n",
    "- numpy - used to perform a wide variety of mathematical operations on arrays\n",
    "- matplotlib - used for data visualization and graphical plotting\n",
    "- seaborn - built on matplotlib with similar functionalities\n",
    "\n",
    "- requests - used to handle api communication (taking requests) with gollama\n",
    "- faiss - used for high-performance vector similarity search for book reccomendations\n",
    "\n"
   ]
  },
  {
   "cell_type": "code",
   "execution_count": 1,
   "id": "077c6b53",
   "metadata": {},
   "outputs": [],
   "source": [
    "import pandas as pd\n",
    "import numpy as np\n",
    "import matplotlib.pyplot as plt\n",
    "import seaborn as sns\n",
    "\n",
    "import faiss\n",
    "import requests\n",
    "\n",
    "sns.set_theme()"
   ]
  },
  {
   "cell_type": "markdown",
   "id": "8bb4f6e9",
   "metadata": {},
   "source": [
    "### Load the Dataset:"
   ]
  },
  {
   "cell_type": "code",
   "execution_count": 2,
   "id": "36cb8a4d",
   "metadata": {},
   "outputs": [],
   "source": [
    "df = pd.read_csv(r\"e:\\litbank\\data\\books.csv\")"
   ]
  },
  {
   "cell_type": "code",
   "execution_count": 3,
   "id": "44dce7de",
   "metadata": {},
   "outputs": [
    {
     "data": {
      "text/html": [
       "<div>\n",
       "<style scoped>\n",
       "    .dataframe tbody tr th:only-of-type {\n",
       "        vertical-align: middle;\n",
       "    }\n",
       "\n",
       "    .dataframe tbody tr th {\n",
       "        vertical-align: top;\n",
       "    }\n",
       "\n",
       "    .dataframe thead th {\n",
       "        text-align: right;\n",
       "    }\n",
       "</style>\n",
       "<table border=\"1\" class=\"dataframe\">\n",
       "  <thead>\n",
       "    <tr style=\"text-align: right;\">\n",
       "      <th></th>\n",
       "      <th>isbn13</th>\n",
       "      <th>isbn10</th>\n",
       "      <th>title</th>\n",
       "      <th>subtitle</th>\n",
       "      <th>authors</th>\n",
       "      <th>categories</th>\n",
       "      <th>thumbnail</th>\n",
       "      <th>description</th>\n",
       "      <th>published_year</th>\n",
       "      <th>average_rating</th>\n",
       "      <th>num_pages</th>\n",
       "      <th>ratings_count</th>\n",
       "    </tr>\n",
       "  </thead>\n",
       "  <tbody>\n",
       "    <tr>\n",
       "      <th>0</th>\n",
       "      <td>9780002005883</td>\n",
       "      <td>0002005883</td>\n",
       "      <td>Gilead</td>\n",
       "      <td>NaN</td>\n",
       "      <td>Marilynne Robinson</td>\n",
       "      <td>Fiction</td>\n",
       "      <td>http://books.google.com/books/content?id=KQZCP...</td>\n",
       "      <td>A NOVEL THAT READERS and critics have been eag...</td>\n",
       "      <td>2004.0</td>\n",
       "      <td>3.85</td>\n",
       "      <td>247.0</td>\n",
       "      <td>361.0</td>\n",
       "    </tr>\n",
       "    <tr>\n",
       "      <th>1</th>\n",
       "      <td>9780002261982</td>\n",
       "      <td>0002261987</td>\n",
       "      <td>Spider's Web</td>\n",
       "      <td>A Novel</td>\n",
       "      <td>Charles Osborne;Agatha Christie</td>\n",
       "      <td>Detective and mystery stories</td>\n",
       "      <td>http://books.google.com/books/content?id=gA5GP...</td>\n",
       "      <td>A new 'Christie for Christmas' -- a full-lengt...</td>\n",
       "      <td>2000.0</td>\n",
       "      <td>3.83</td>\n",
       "      <td>241.0</td>\n",
       "      <td>5164.0</td>\n",
       "    </tr>\n",
       "    <tr>\n",
       "      <th>2</th>\n",
       "      <td>9780006163831</td>\n",
       "      <td>0006163831</td>\n",
       "      <td>The One Tree</td>\n",
       "      <td>NaN</td>\n",
       "      <td>Stephen R. Donaldson</td>\n",
       "      <td>American fiction</td>\n",
       "      <td>http://books.google.com/books/content?id=OmQaw...</td>\n",
       "      <td>Volume Two of Stephen Donaldson's acclaimed se...</td>\n",
       "      <td>1982.0</td>\n",
       "      <td>3.97</td>\n",
       "      <td>479.0</td>\n",
       "      <td>172.0</td>\n",
       "    </tr>\n",
       "    <tr>\n",
       "      <th>3</th>\n",
       "      <td>9780006178736</td>\n",
       "      <td>0006178731</td>\n",
       "      <td>Rage of angels</td>\n",
       "      <td>NaN</td>\n",
       "      <td>Sidney Sheldon</td>\n",
       "      <td>Fiction</td>\n",
       "      <td>http://books.google.com/books/content?id=FKo2T...</td>\n",
       "      <td>A memorable, mesmerizing heroine Jennifer -- b...</td>\n",
       "      <td>1993.0</td>\n",
       "      <td>3.93</td>\n",
       "      <td>512.0</td>\n",
       "      <td>29532.0</td>\n",
       "    </tr>\n",
       "    <tr>\n",
       "      <th>4</th>\n",
       "      <td>9780006280897</td>\n",
       "      <td>0006280897</td>\n",
       "      <td>The Four Loves</td>\n",
       "      <td>NaN</td>\n",
       "      <td>Clive Staples Lewis</td>\n",
       "      <td>Christian life</td>\n",
       "      <td>http://books.google.com/books/content?id=XhQ5X...</td>\n",
       "      <td>Lewis' work on the nature of love divides love...</td>\n",
       "      <td>2002.0</td>\n",
       "      <td>4.15</td>\n",
       "      <td>170.0</td>\n",
       "      <td>33684.0</td>\n",
       "    </tr>\n",
       "  </tbody>\n",
       "</table>\n",
       "</div>"
      ],
      "text/plain": [
       "          isbn13      isbn10           title subtitle  \\\n",
       "0  9780002005883  0002005883          Gilead      NaN   \n",
       "1  9780002261982  0002261987    Spider's Web  A Novel   \n",
       "2  9780006163831  0006163831    The One Tree      NaN   \n",
       "3  9780006178736  0006178731  Rage of angels      NaN   \n",
       "4  9780006280897  0006280897  The Four Loves      NaN   \n",
       "\n",
       "                           authors                     categories  \\\n",
       "0               Marilynne Robinson                        Fiction   \n",
       "1  Charles Osborne;Agatha Christie  Detective and mystery stories   \n",
       "2             Stephen R. Donaldson               American fiction   \n",
       "3                   Sidney Sheldon                        Fiction   \n",
       "4              Clive Staples Lewis                 Christian life   \n",
       "\n",
       "                                           thumbnail  \\\n",
       "0  http://books.google.com/books/content?id=KQZCP...   \n",
       "1  http://books.google.com/books/content?id=gA5GP...   \n",
       "2  http://books.google.com/books/content?id=OmQaw...   \n",
       "3  http://books.google.com/books/content?id=FKo2T...   \n",
       "4  http://books.google.com/books/content?id=XhQ5X...   \n",
       "\n",
       "                                         description  published_year  \\\n",
       "0  A NOVEL THAT READERS and critics have been eag...          2004.0   \n",
       "1  A new 'Christie for Christmas' -- a full-lengt...          2000.0   \n",
       "2  Volume Two of Stephen Donaldson's acclaimed se...          1982.0   \n",
       "3  A memorable, mesmerizing heroine Jennifer -- b...          1993.0   \n",
       "4  Lewis' work on the nature of love divides love...          2002.0   \n",
       "\n",
       "   average_rating  num_pages  ratings_count  \n",
       "0            3.85      247.0          361.0  \n",
       "1            3.83      241.0         5164.0  \n",
       "2            3.97      479.0          172.0  \n",
       "3            3.93      512.0        29532.0  \n",
       "4            4.15      170.0        33684.0  "
      ]
     },
     "execution_count": 3,
     "metadata": {},
     "output_type": "execute_result"
    }
   ],
   "source": [
    "df.head()"
   ]
  },
  {
   "cell_type": "code",
   "execution_count": 4,
   "id": "231f30de",
   "metadata": {},
   "outputs": [
    {
     "data": {
      "text/html": [
       "<div>\n",
       "<style scoped>\n",
       "    .dataframe tbody tr th:only-of-type {\n",
       "        vertical-align: middle;\n",
       "    }\n",
       "\n",
       "    .dataframe tbody tr th {\n",
       "        vertical-align: top;\n",
       "    }\n",
       "\n",
       "    .dataframe thead th {\n",
       "        text-align: right;\n",
       "    }\n",
       "</style>\n",
       "<table border=\"1\" class=\"dataframe\">\n",
       "  <thead>\n",
       "    <tr style=\"text-align: right;\">\n",
       "      <th></th>\n",
       "      <th>isbn13</th>\n",
       "      <th>published_year</th>\n",
       "      <th>average_rating</th>\n",
       "      <th>num_pages</th>\n",
       "      <th>ratings_count</th>\n",
       "    </tr>\n",
       "  </thead>\n",
       "  <tbody>\n",
       "    <tr>\n",
       "      <th>count</th>\n",
       "      <td>6.810000e+03</td>\n",
       "      <td>6804.000000</td>\n",
       "      <td>6767.000000</td>\n",
       "      <td>6767.000000</td>\n",
       "      <td>6.767000e+03</td>\n",
       "    </tr>\n",
       "    <tr>\n",
       "      <th>mean</th>\n",
       "      <td>9.780677e+12</td>\n",
       "      <td>1998.630364</td>\n",
       "      <td>3.933284</td>\n",
       "      <td>348.181026</td>\n",
       "      <td>2.106910e+04</td>\n",
       "    </tr>\n",
       "    <tr>\n",
       "      <th>std</th>\n",
       "      <td>6.068911e+08</td>\n",
       "      <td>10.484257</td>\n",
       "      <td>0.331352</td>\n",
       "      <td>242.376783</td>\n",
       "      <td>1.376207e+05</td>\n",
       "    </tr>\n",
       "    <tr>\n",
       "      <th>min</th>\n",
       "      <td>9.780002e+12</td>\n",
       "      <td>1853.000000</td>\n",
       "      <td>0.000000</td>\n",
       "      <td>0.000000</td>\n",
       "      <td>0.000000e+00</td>\n",
       "    </tr>\n",
       "    <tr>\n",
       "      <th>25%</th>\n",
       "      <td>9.780330e+12</td>\n",
       "      <td>1996.000000</td>\n",
       "      <td>3.770000</td>\n",
       "      <td>208.000000</td>\n",
       "      <td>1.590000e+02</td>\n",
       "    </tr>\n",
       "    <tr>\n",
       "      <th>50%</th>\n",
       "      <td>9.780553e+12</td>\n",
       "      <td>2002.000000</td>\n",
       "      <td>3.960000</td>\n",
       "      <td>304.000000</td>\n",
       "      <td>1.018000e+03</td>\n",
       "    </tr>\n",
       "    <tr>\n",
       "      <th>75%</th>\n",
       "      <td>9.780810e+12</td>\n",
       "      <td>2005.000000</td>\n",
       "      <td>4.130000</td>\n",
       "      <td>420.000000</td>\n",
       "      <td>5.992500e+03</td>\n",
       "    </tr>\n",
       "    <tr>\n",
       "      <th>max</th>\n",
       "      <td>9.789042e+12</td>\n",
       "      <td>2019.000000</td>\n",
       "      <td>5.000000</td>\n",
       "      <td>3342.000000</td>\n",
       "      <td>5.629932e+06</td>\n",
       "    </tr>\n",
       "  </tbody>\n",
       "</table>\n",
       "</div>"
      ],
      "text/plain": [
       "             isbn13  published_year  average_rating    num_pages  \\\n",
       "count  6.810000e+03     6804.000000     6767.000000  6767.000000   \n",
       "mean   9.780677e+12     1998.630364        3.933284   348.181026   \n",
       "std    6.068911e+08       10.484257        0.331352   242.376783   \n",
       "min    9.780002e+12     1853.000000        0.000000     0.000000   \n",
       "25%    9.780330e+12     1996.000000        3.770000   208.000000   \n",
       "50%    9.780553e+12     2002.000000        3.960000   304.000000   \n",
       "75%    9.780810e+12     2005.000000        4.130000   420.000000   \n",
       "max    9.789042e+12     2019.000000        5.000000  3342.000000   \n",
       "\n",
       "       ratings_count  \n",
       "count   6.767000e+03  \n",
       "mean    2.106910e+04  \n",
       "std     1.376207e+05  \n",
       "min     0.000000e+00  \n",
       "25%     1.590000e+02  \n",
       "50%     1.018000e+03  \n",
       "75%     5.992500e+03  \n",
       "max     5.629932e+06  "
      ]
     },
     "execution_count": 4,
     "metadata": {},
     "output_type": "execute_result"
    }
   ],
   "source": [
    "# Statistical Info\n",
    "df.describe()"
   ]
  },
  {
   "cell_type": "code",
   "execution_count": 5,
   "id": "e7d562be",
   "metadata": {},
   "outputs": [
    {
     "name": "stdout",
     "output_type": "stream",
     "text": [
      "<class 'pandas.core.frame.DataFrame'>\n",
      "RangeIndex: 6810 entries, 0 to 6809\n",
      "Data columns (total 12 columns):\n",
      " #   Column          Non-Null Count  Dtype  \n",
      "---  ------          --------------  -----  \n",
      " 0   isbn13          6810 non-null   int64  \n",
      " 1   isbn10          6810 non-null   object \n",
      " 2   title           6810 non-null   object \n",
      " 3   subtitle        2381 non-null   object \n",
      " 4   authors         6738 non-null   object \n",
      " 5   categories      6711 non-null   object \n",
      " 6   thumbnail       6481 non-null   object \n",
      " 7   description     6548 non-null   object \n",
      " 8   published_year  6804 non-null   float64\n",
      " 9   average_rating  6767 non-null   float64\n",
      " 10  num_pages       6767 non-null   float64\n",
      " 11  ratings_count   6767 non-null   float64\n",
      "dtypes: float64(4), int64(1), object(7)\n",
      "memory usage: 638.6+ KB\n"
     ]
    }
   ],
   "source": [
    "# Datatype Info\n",
    "df.info()"
   ]
  },
  {
   "cell_type": "markdown",
   "id": "f236050a",
   "metadata": {},
   "source": [
    "### Data Cleaning I\n",
    "\n",
    "#### Finding the NULL values:"
   ]
  },
  {
   "cell_type": "code",
   "execution_count": 6,
   "id": "5eacf976",
   "metadata": {},
   "outputs": [
    {
     "data": {
      "text/plain": [
       "isbn13               0\n",
       "isbn10               0\n",
       "title                0\n",
       "subtitle          4429\n",
       "authors             72\n",
       "categories          99\n",
       "thumbnail          329\n",
       "description        262\n",
       "published_year       6\n",
       "average_rating      43\n",
       "num_pages           43\n",
       "ratings_count       43\n",
       "dtype: int64"
      ]
     },
     "execution_count": 6,
     "metadata": {},
     "output_type": "execute_result"
    }
   ],
   "source": [
    "df.isnull().sum()"
   ]
  },
  {
   "cell_type": "markdown",
   "id": "f0dfd652",
   "metadata": {},
   "source": [
    "#### Removing Unneeded Fields:\n",
    "- isbn13: no meaningful data\n",
    "- isbn10: no meaningful data\n",
    "- subtitle: 4429 NULL values + little meaningful data\n",
    "- thumbnail: no meaningful data\n",
    "- ratings_count: unneeded field"
   ]
  },
  {
   "cell_type": "code",
   "execution_count": 7,
   "id": "3b2f3eb6",
   "metadata": {},
   "outputs": [
    {
     "data": {
      "text/html": [
       "<div>\n",
       "<style scoped>\n",
       "    .dataframe tbody tr th:only-of-type {\n",
       "        vertical-align: middle;\n",
       "    }\n",
       "\n",
       "    .dataframe tbody tr th {\n",
       "        vertical-align: top;\n",
       "    }\n",
       "\n",
       "    .dataframe thead th {\n",
       "        text-align: right;\n",
       "    }\n",
       "</style>\n",
       "<table border=\"1\" class=\"dataframe\">\n",
       "  <thead>\n",
       "    <tr style=\"text-align: right;\">\n",
       "      <th></th>\n",
       "      <th>title</th>\n",
       "      <th>authors</th>\n",
       "      <th>categories</th>\n",
       "      <th>description</th>\n",
       "      <th>published_year</th>\n",
       "      <th>average_rating</th>\n",
       "      <th>num_pages</th>\n",
       "    </tr>\n",
       "  </thead>\n",
       "  <tbody>\n",
       "    <tr>\n",
       "      <th>0</th>\n",
       "      <td>Gilead</td>\n",
       "      <td>Marilynne Robinson</td>\n",
       "      <td>Fiction</td>\n",
       "      <td>A NOVEL THAT READERS and critics have been eag...</td>\n",
       "      <td>2004.0</td>\n",
       "      <td>3.85</td>\n",
       "      <td>247.0</td>\n",
       "    </tr>\n",
       "    <tr>\n",
       "      <th>1</th>\n",
       "      <td>Spider's Web</td>\n",
       "      <td>Charles Osborne;Agatha Christie</td>\n",
       "      <td>Detective and mystery stories</td>\n",
       "      <td>A new 'Christie for Christmas' -- a full-lengt...</td>\n",
       "      <td>2000.0</td>\n",
       "      <td>3.83</td>\n",
       "      <td>241.0</td>\n",
       "    </tr>\n",
       "    <tr>\n",
       "      <th>2</th>\n",
       "      <td>The One Tree</td>\n",
       "      <td>Stephen R. Donaldson</td>\n",
       "      <td>American fiction</td>\n",
       "      <td>Volume Two of Stephen Donaldson's acclaimed se...</td>\n",
       "      <td>1982.0</td>\n",
       "      <td>3.97</td>\n",
       "      <td>479.0</td>\n",
       "    </tr>\n",
       "    <tr>\n",
       "      <th>3</th>\n",
       "      <td>Rage of angels</td>\n",
       "      <td>Sidney Sheldon</td>\n",
       "      <td>Fiction</td>\n",
       "      <td>A memorable, mesmerizing heroine Jennifer -- b...</td>\n",
       "      <td>1993.0</td>\n",
       "      <td>3.93</td>\n",
       "      <td>512.0</td>\n",
       "    </tr>\n",
       "    <tr>\n",
       "      <th>4</th>\n",
       "      <td>The Four Loves</td>\n",
       "      <td>Clive Staples Lewis</td>\n",
       "      <td>Christian life</td>\n",
       "      <td>Lewis' work on the nature of love divides love...</td>\n",
       "      <td>2002.0</td>\n",
       "      <td>4.15</td>\n",
       "      <td>170.0</td>\n",
       "    </tr>\n",
       "  </tbody>\n",
       "</table>\n",
       "</div>"
      ],
      "text/plain": [
       "            title                          authors  \\\n",
       "0          Gilead               Marilynne Robinson   \n",
       "1    Spider's Web  Charles Osborne;Agatha Christie   \n",
       "2    The One Tree             Stephen R. Donaldson   \n",
       "3  Rage of angels                   Sidney Sheldon   \n",
       "4  The Four Loves              Clive Staples Lewis   \n",
       "\n",
       "                      categories  \\\n",
       "0                        Fiction   \n",
       "1  Detective and mystery stories   \n",
       "2               American fiction   \n",
       "3                        Fiction   \n",
       "4                 Christian life   \n",
       "\n",
       "                                         description  published_year  \\\n",
       "0  A NOVEL THAT READERS and critics have been eag...          2004.0   \n",
       "1  A new 'Christie for Christmas' -- a full-lengt...          2000.0   \n",
       "2  Volume Two of Stephen Donaldson's acclaimed se...          1982.0   \n",
       "3  A memorable, mesmerizing heroine Jennifer -- b...          1993.0   \n",
       "4  Lewis' work on the nature of love divides love...          2002.0   \n",
       "\n",
       "   average_rating  num_pages  \n",
       "0            3.85      247.0  \n",
       "1            3.83      241.0  \n",
       "2            3.97      479.0  \n",
       "3            3.93      512.0  \n",
       "4            4.15      170.0  "
      ]
     },
     "execution_count": 7,
     "metadata": {},
     "output_type": "execute_result"
    }
   ],
   "source": [
    "df = df.drop(columns=['isbn13', 'isbn10', 'subtitle', 'thumbnail', 'ratings_count'])\n",
    "df.head()"
   ]
  },
  {
   "cell_type": "markdown",
   "id": "238a1b90",
   "metadata": {},
   "source": [
    "### Exploring the Data\n",
    "\n",
    "#### Exploring Categorical Attributes and Distribution"
   ]
  },
  {
   "cell_type": "code",
   "execution_count": 8,
   "id": "ad1554f2",
   "metadata": {},
   "outputs": [
    {
     "data": {
      "image/png": "[encoded data removed]",
      "text/plain": [
       "<Figure size 640x480 with 1 Axes>"
      ]
     },
     "metadata": {},
     "output_type": "display_data"
    }
   ],
   "source": [
    "top_categories = df['categories'].value_counts().head(10)\n",
    "\n",
    "sns.countplot(x='categories', data=df[df['categories'].isin(top_categories.index)])\n",
    "plt.xticks(rotation=45, ha='right')\n",
    "plt.tight_layout()"
   ]
  },
  {
   "cell_type": "code",
   "execution_count": 9,
   "id": "25259ee2",
   "metadata": {},
   "outputs": [
    {
     "data": {
      "image/png": "[encoded data removed]",
      "text/plain": [
       "<Figure size 800x800 with 1 Axes>"
      ]
     },
     "metadata": {},
     "output_type": "display_data"
    }
   ],
   "source": [
    "top_categories.plot.pie(autopct='%1.1f%%', figsize=(8, 8), title='Top Categories Distribution')\n",
    "plt.ylabel('')  # Remove the y-axis label\n",
    "plt.show()"
   ]
  },
  {
   "cell_type": "markdown",
   "id": "ab55a310",
   "metadata": {},
   "source": [
    "#### Exploring Numerical Attributes and Distribution"
   ]
  },
  {
   "cell_type": "code",
   "execution_count": 10,
   "id": "b9ccaa23",
   "metadata": {},
   "outputs": [
    {
     "data": {
      "text/plain": [
       "<Axes: xlabel='num_pages', ylabel='Count'>"
      ]
     },
     "execution_count": 10,
     "metadata": {},
     "output_type": "execute_result"
    },
    {
     "data": {
      "image/png": "[encoded data removed]",
      "text/plain": [
       "<Figure size 640x480 with 1 Axes>"
      ]
     },
     "metadata": {},
     "output_type": "display_data"
    }
   ],
   "source": [
    "sns.histplot(x='num_pages', data=df, kde='True')"
   ]
  },
  {
   "cell_type": "code",
   "execution_count": 11,
   "id": "55f5049f",
   "metadata": {},
   "outputs": [
    {
     "data": {
      "text/plain": [
       "<Axes: xlabel='average_rating', ylabel='Count'>"
      ]
     },
     "execution_count": 11,
     "metadata": {},
     "output_type": "execute_result"
    },
    {
     "data": {
      "image/png": "[encoded data removed]",
      "text/plain": [
       "<Figure size 640x480 with 1 Axes>"
      ]
     },
     "metadata": {},
     "output_type": "display_data"
    }
   ],
   "source": [
    "sns.histplot(x='average_rating', data=df, kde='True')"
   ]
  },
  {
   "cell_type": "code",
   "execution_count": 12,
   "id": "cdbc481f",
   "metadata": {},
   "outputs": [
    {
     "data": {
      "text/plain": [
       "<Axes: xlabel='published_year', ylabel='Count'>"
      ]
     },
     "execution_count": 12,
     "metadata": {},
     "output_type": "execute_result"
    },
    {
     "data": {
      "image/png": "[encoded data removed]",
      "text/plain": [
       "<Figure size 640x480 with 1 Axes>"
      ]
     },
     "metadata": {},
     "output_type": "display_data"
    }
   ],
   "source": [
    "sns.histplot(x='published_year', data=df, kde='True')"
   ]
  },
  {
   "cell_type": "markdown",
   "id": "492b1461",
   "metadata": {},
   "source": [
    "### Creating Embeddings and Vector Store\n",
    "#### Creating Textual Representations of Each Entry\n",
    "title\tauthors\tcategories\tdescription\tpublished_year\taverage_rating\tnum_pages"
   ]
  },
  {
   "cell_type": "code",
   "execution_count": 13,
   "id": "e227c8a8",
   "metadata": {},
   "outputs": [],
   "source": [
    "def textual_representation(row):\n",
    "    textual_representation = f\"\"\"Title: {row['title']}\n",
    "Authors: {row['authors']}\n",
    "Categories: {row['categories']}\n",
    "Description: {row['description']}\n",
    "Publishing Year: {row['published_year']}\n",
    "Average Rating: {row['average_rating']}\n",
    "Number of Pages: {row['num_pages']}\n",
    "\"\"\"\n",
    "    return textual_representation"
   ]
  },
  {
   "cell_type": "markdown",
   "id": "5462cfa3",
   "metadata": {},
   "source": []
  },
  {
   "cell_type": "code",
   "execution_count": 14,
   "id": "663270da",
   "metadata": {},
   "outputs": [
    {
     "data": {
      "text/plain": [
       "0    Title: Gilead\\nAuthors: Marilynne Robinson\\nCa...\n",
       "1    Title: Spider's Web\\nAuthors: Charles Osborne;...\n",
       "2    Title: The One Tree\\nAuthors: Stephen R. Donal...\n",
       "3    Title: Rage of angels\\nAuthors: Sidney Sheldon...\n",
       "4    Title: The Four Loves\\nAuthors: Clive Staples ...\n",
       "dtype: object"
      ]
     },
     "execution_count": 14,
     "metadata": {},
     "output_type": "execute_result"
    }
   ],
   "source": [
    "df.iloc[:5].apply(textual_representation, axis=1)"
   ]
  },
  {
   "cell_type": "code",
   "execution_count": 15,
   "id": "dec9c5bd",
   "metadata": {},
   "outputs": [],
   "source": [
    "df['textual_representation'] = df.apply(textual_representation, axis=1)"
   ]
  },
  {
   "cell_type": "markdown",
   "id": "73498266",
   "metadata": {},
   "source": [
    "#### Creating Embeddings\n",
    "Initialising dimensionality of vectors and vector space.\n",
    "\n",
    "Dimensionality = 4096 because that is the dimensionality of the response we get from Llama3. "
   ]
  },
  {
   "cell_type": "code",
   "execution_count": 16,
   "id": "661d2e62",
   "metadata": {},
   "outputs": [],
   "source": [
    "dim = 768\n",
    "index = faiss.IndexFlatL2(dim)"
   ]
  },
  {
   "cell_type": "markdown",
   "id": "1cc293c1",
   "metadata": {},
   "source": [
    "Initialise input full of zeros."
   ]
  },
  {
   "cell_type": "code",
   "execution_count": 17,
   "id": "aaa87876",
   "metadata": {},
   "outputs": [],
   "source": [
    "X= np.zeros((len(df['textual_representation']), dim), dtype='float32')"
   ]
  },
  {
   "cell_type": "markdown",
   "id": "26aab8ea",
   "metadata": {},
   "source": [
    "Get embeddings from LLM model:"
   ]
  },
  {
   "cell_type": "code",
   "execution_count": 21,
   "id": "8cb18018",
   "metadata": {},
   "outputs": [
    {
     "name": "stdout",
     "output_type": "stream",
     "text": [
      "0\n",
      "100\n",
      "200\n",
      "300\n",
      "400\n",
      "500\n",
      "600\n",
      "700\n",
      "800\n",
      "900\n",
      "1000\n",
      "1100\n",
      "1200\n",
      "1300\n",
      "1400\n",
      "1500\n",
      "1600\n",
      "1700\n",
      "1800\n",
      "1900\n",
      "2000\n",
      "2100\n",
      "2200\n",
      "2300\n",
      "2400\n",
      "2500\n",
      "2600\n",
      "2700\n",
      "2800\n",
      "2900\n",
      "3000\n",
      "3100\n",
      "3200\n",
      "3300\n",
      "3400\n",
      "3500\n",
      "3600\n",
      "3700\n",
      "3800\n",
      "3900\n",
      "4000\n",
      "4100\n",
      "4200\n",
      "4300\n",
      "4400\n",
      "4500\n",
      "4600\n",
      "4700\n",
      "4800\n",
      "4900\n",
      "5000\n",
      "5100\n",
      "5200\n",
      "5300\n",
      "5400\n",
      "5500\n",
      "5600\n",
      "5700\n",
      "5800\n",
      "5900\n",
      "6000\n",
      "6100\n",
      "6200\n",
      "6300\n",
      "6400\n",
      "6500\n",
      "6600\n",
      "6700\n",
      "6800\n"
     ]
    }
   ],
   "source": [
    "for i, representation in enumerate(df['textual_representation']):\n",
    "\n",
    "    if i % 100 == 0:\n",
    "        print(i)\n",
    "\n",
    "    # Send an embedding request to Ollama, running the llama3 model\n",
    "    res = requests.post('http://localhost:11434/api/embeddings',\n",
    "                        json = {\n",
    "                            'model': 'embeddinggemma',\n",
    "                            'prompt': representation\n",
    "                        })\n",
    "    # Receive Response from LLama3\n",
    "    embedding = res.json()['embedding']\n",
    "\n",
    "    # Fill Array with Responses\n",
    "    X[i] = np.array(embedding)\n",
    "\n",
    "index.add(X)"
   ]
  },
  {
   "cell_type": "code",
   "execution_count": 22,
   "id": "fe1e4c23",
   "metadata": {},
   "outputs": [],
   "source": [
    "# Export index\n",
    "faiss.write_index(index, 'index.v1')"
   ]
  },
  {
   "cell_type": "code",
   "execution_count": 52,
   "id": "17a1108f",
   "metadata": {},
   "outputs": [
    {
     "name": "stdout",
     "output_type": "stream",
     "text": [
      "[-5.37551567e-02  1.13432571e-01 -2.19824594e-02  5.54629527e-02\n",
      " -1.11144753e-02 -1.89144965e-02 -4.33016010e-02  4.10826430e-02\n",
      " -1.02049513e-02 -5.41741736e-02  5.99760376e-03  3.13925296e-02\n",
      "  1.17603680e-02 -1.02304795e-03 -6.45805243e-03  3.25071514e-02\n",
      " -5.95675176e-03  5.94489202e-02  2.92462693e-03  1.60450619e-02\n",
      " -1.86468773e-02 -3.13610621e-02  1.11417612e-02 -1.10991858e-02\n",
      "  6.17891690e-03 -7.53541535e-04  2.50025615e-02  3.20994668e-02\n",
      " -1.15080103e-02  1.88105963e-02  1.50070165e-03  2.18321774e-02\n",
      "  6.12083785e-02 -2.18794756e-02  3.03974431e-02 -2.94600949e-02\n",
      " -2.61056647e-02 -1.11025851e-03 -4.93082702e-02  1.61752608e-02\n",
      " -2.66674161e-02  1.18084252e-02 -5.71569391e-02  4.06911187e-02\n",
      " -6.46684244e-02 -6.39960496e-03  4.72033769e-03 -3.47638316e-02\n",
      " -2.19556037e-02 -4.38026525e-03  2.67394702e-03  2.66549010e-02\n",
      " -6.42081117e-03 -4.69571678e-03 -2.00933833e-02 -7.94949941e-03\n",
      "  1.86549760e-02 -1.24359420e-02 -5.93131110e-02 -7.78413787e-02\n",
      " -2.64151525e-02 -3.59796472e-02  4.25465312e-03 -5.49697429e-02\n",
      "  5.62819419e-03  1.41468237e-03  1.29964110e-02  2.91678291e-02\n",
      "  1.78512260e-02  1.37831837e-01  1.56967398e-02  4.68537658e-02\n",
      " -5.75661398e-02 -9.21640024e-02  1.36633232e-01 -1.15883388e-01\n",
      "  2.89443298e-03  6.34031510e-03 -7.93245584e-02  4.45642844e-02\n",
      " -2.69437511e-03 -2.58705560e-02 -4.33948487e-02 -3.02789137e-02\n",
      "  9.03666206e-03 -2.99334303e-02  1.99397001e-02 -1.60297770e-02\n",
      "  4.83368943e-03 -5.38012125e-02 -2.42707767e-02 -1.01301789e-01\n",
      " -1.34924268e-02 -1.89676452e-02  4.66121273e-04  3.31885135e-03\n",
      "  1.52887003e-02  3.42194140e-02  5.98260686e-02 -2.22836584e-02\n",
      "  6.29053712e-02 -2.70541776e-02  9.26903486e-02  4.93669026e-02\n",
      " -2.66952999e-02 -1.96454749e-02  8.33951868e-03  1.03616603e-02\n",
      " -2.94351634e-02  2.42137685e-02 -6.05633780e-02  5.91070950e-03\n",
      " -9.20942426e-02  6.27289293e-03 -3.25033665e-02  3.86940204e-02\n",
      "  2.05253083e-02 -2.82169855e-03 -2.33196951e-02 -3.71042080e-02\n",
      " -1.69925159e-03 -5.09424768e-02  1.70701593e-02 -1.53033985e-02\n",
      "  5.66185266e-02  6.77801222e-02 -2.68878844e-02  8.17215536e-03\n",
      " -3.72059979e-02  5.32421358e-02  4.47325408e-02 -7.48982187e-03\n",
      "  6.18472416e-03 -1.16567370e-02  5.51497098e-03  1.35609985e-03\n",
      "  8.19958374e-02  1.22295450e-02 -5.40619977e-02 -3.81546766e-02\n",
      " -2.37857103e-02  6.38425956e-03  4.46246192e-02  4.19579372e-02\n",
      "  3.50173227e-02 -8.11777078e-03 -1.13310544e-02 -1.26259755e-02\n",
      "  3.93471122e-02  9.42113847e-02  3.04961521e-02  1.15368434e-03\n",
      "  1.00804463e-01  1.35476962e-02 -2.48243921e-02 -2.84296051e-02\n",
      " -2.62127053e-02 -6.25043316e-03 -2.31796931e-02  1.18136005e-02\n",
      " -3.10741412e-03  1.92557983e-02 -1.30714942e-02  6.16811477e-02\n",
      "  1.15576116e-02  5.03205471e-02 -2.83781742e-03 -1.13389613e-02\n",
      " -3.46683599e-02  7.16196978e-03 -1.00680673e-03 -7.41393014e-04\n",
      " -1.26235920e-03  1.00267053e-01  2.00659335e-02 -3.88756185e-03\n",
      " -1.70744061e-02 -2.77379565e-02  3.64064723e-02 -3.05822194e-02\n",
      "  1.12392968e-02  5.78957088e-02 -7.06638442e-03  5.90800755e-02\n",
      " -3.98727320e-02 -2.87928376e-02  3.05207167e-02  4.75052372e-02\n",
      "  6.25399640e-03 -1.11612700e-01  3.64562906e-02 -9.76863690e-03\n",
      " -5.18609732e-02  3.37048359e-02  5.79926297e-02  6.58662468e-02\n",
      "  8.59819073e-03 -1.75968409e-02 -3.56335826e-02  2.22629551e-02\n",
      " -2.38023102e-02  3.70370671e-02 -6.20167144e-03  1.20176980e-02\n",
      "  5.85338548e-02  2.35219803e-02 -3.32668424e-02  3.06349359e-02\n",
      "  1.05091780e-02  1.30056739e-02  6.86675236e-02  1.79975946e-03\n",
      " -3.98257524e-02  4.96833920e-02  2.32981071e-02  5.65686487e-02\n",
      " -3.71191986e-02  1.20228361e-02  1.20728286e-02  7.28898356e-03\n",
      "  2.20702239e-03  3.64010455e-03 -2.35565864e-02 -2.25827098e-02\n",
      " -8.05351650e-04 -4.59833741e-02 -2.30940878e-02 -2.33871769e-03\n",
      "  2.98850536e-02 -1.88670331e-03 -3.52407643e-03  3.73087823e-02\n",
      " -7.92945698e-02  5.41634299e-02  7.25948950e-03 -2.01539528e-02\n",
      " -3.50542963e-02  9.74899437e-03 -5.85390292e-02  8.58029947e-02\n",
      "  3.69114280e-02  1.81246456e-02  1.11936200e-02  2.79858187e-02\n",
      " -1.01027405e-02  2.49405075e-02  2.29010880e-02 -7.55291013e-03\n",
      " -9.64648742e-03 -1.98666938e-02 -2.64185593e-02  5.52277975e-02\n",
      "  2.75972672e-03 -3.84779610e-02  4.67570312e-02  3.84478085e-02\n",
      " -3.42820510e-02 -2.20504720e-02 -1.26359910e-02  1.51788897e-03\n",
      "  5.05808629e-02 -8.13006796e-03 -4.15901793e-03  8.24981555e-03\n",
      "  1.86506864e-02 -4.07041349e-02  1.89754330e-02  3.43337618e-02\n",
      " -1.86657850e-02  4.38944846e-02  1.71853416e-02  8.41561630e-02\n",
      "  4.28563799e-04 -2.03466080e-02 -4.02765423e-02  2.22931337e-03\n",
      " -7.45008364e-02 -1.70905627e-02  2.74013877e-02 -8.78135487e-03\n",
      "  2.01756470e-02 -8.72952212e-03 -3.18554044e-02 -2.07457449e-02\n",
      "  2.62812478e-03  4.11043651e-02  4.89003621e-02  1.15912128e-02\n",
      " -2.76283640e-02 -7.92504009e-03 -6.19752053e-03 -6.36964850e-03\n",
      " -2.64382176e-02  6.21568561e-02 -3.72638181e-02 -6.80413749e-03\n",
      " -1.99238155e-02 -4.77115400e-02  3.35390121e-02  7.39226490e-02\n",
      "  1.56523157e-02  7.92199001e-03  1.35945603e-02  1.08296229e-02\n",
      " -1.47957178e-02  1.78103000e-02 -8.00095126e-02  1.69345159e-02\n",
      " -3.18538658e-02  4.49997373e-02 -3.39189963e-03  1.61825009e-02\n",
      " -2.34665698e-03  4.44145948e-02 -2.90675182e-02  3.53986584e-02\n",
      "  4.68043014e-02  1.82265081e-02  3.25774066e-02  7.05757588e-02\n",
      "  4.20501828e-02  4.74039391e-02  3.47223654e-02  3.59757319e-02\n",
      "  9.31731388e-02 -1.97453368e-02 -7.81489350e-03  2.16157436e-02\n",
      "  4.38062437e-02  1.01809418e-02 -6.61578923e-02 -2.88579930e-02\n",
      " -1.68764871e-02  2.08631419e-02 -1.74374580e-02  1.77038163e-02\n",
      " -4.42281216e-02  1.73997483e-03 -2.78444663e-02  6.03173338e-02\n",
      "  1.90945230e-02 -2.15464253e-02 -2.09181327e-02 -2.02856585e-02\n",
      "  1.41535662e-02  1.33809410e-02  3.84427309e-02 -2.43440755e-02\n",
      "  4.23561074e-02  2.99929213e-02 -3.09724808e-02 -2.13811882e-02\n",
      " -5.28700417e-03  6.63796663e-02 -5.00129722e-02 -3.44808735e-02\n",
      " -3.07079684e-02  1.66333076e-02  2.36849524e-02  1.89903900e-02\n",
      "  1.55065330e-02 -3.07874754e-02  1.40833128e-02 -2.59356797e-02\n",
      "  1.87617280e-02 -2.17327029e-02  4.32489906e-03 -4.20128852e-02\n",
      " -1.43110380e-02 -2.26398744e-02  1.64695363e-02 -4.56947945e-02\n",
      "  2.56913658e-02 -9.00834892e-03 -5.50067537e-02 -4.56943028e-02\n",
      "  1.31942611e-02 -8.87712959e-05 -1.98378656e-02 -6.88226670e-02\n",
      " -2.26250682e-02  1.78678136e-03 -2.04222817e-02  5.17189445e-04\n",
      "  9.63633787e-03  6.08923705e-03  4.25320975e-02 -5.66183440e-02\n",
      "  3.04661095e-02  5.58079556e-02 -5.16011864e-02  4.03845869e-03\n",
      "  3.85921933e-02  3.79737606e-03  1.90749839e-02 -2.02891193e-02\n",
      "  2.97166016e-02  4.59518172e-02 -2.90021263e-02 -2.02226546e-02\n",
      "  6.37075901e-02 -3.98835614e-02 -1.02831563e-02 -1.90682467e-02\n",
      "  9.04017314e-03  4.86701168e-02 -2.44057123e-02 -7.82072544e-02\n",
      "  5.46282604e-02  1.83734335e-02 -2.94995378e-03 -3.06810532e-03\n",
      " -3.02440096e-02 -1.38381133e-02  2.53343321e-02 -1.61083099e-02\n",
      " -3.28649976e-03  5.01884185e-02 -6.60287496e-03 -7.44447038e-02\n",
      "  9.38527752e-03  1.42204799e-02  6.40086308e-02 -1.44381039e-02\n",
      "  2.18065344e-02  1.09142838e-02 -2.62735020e-02 -1.38022248e-02\n",
      "  5.22350147e-02 -8.37275013e-03 -3.19616012e-02  8.33948981e-03\n",
      "  1.65237803e-02  5.98472431e-02  6.43198332e-03 -3.24822217e-02\n",
      " -8.56152251e-02 -8.89385177e-04 -5.37028201e-02  4.79196198e-02\n",
      "  4.62682359e-03 -5.45630697e-03 -1.79978423e-02 -3.69628258e-02\n",
      " -1.71081983e-02  1.10403653e-02  6.19530817e-03  3.96547541e-02\n",
      " -3.05756778e-02 -1.61293056e-02 -3.89367491e-02  1.35910173e-03\n",
      "  9.01187956e-03  8.30573216e-03  3.86721008e-02  2.13000029e-02\n",
      " -3.78407091e-02  1.38740772e-02 -1.41621837e-02 -1.63772199e-02\n",
      " -3.25668603e-02  2.08379347e-02  3.85813136e-03  9.30313778e-04\n",
      " -1.43051613e-02 -6.75537810e-02  5.46660647e-02 -2.50956323e-02\n",
      " -3.25236656e-02 -3.86315435e-02 -3.14775109e-02 -6.78056525e-03\n",
      "  2.87168398e-02  3.27185169e-02 -4.63926457e-02 -7.65440008e-03\n",
      " -9.26243421e-03  3.45234275e-02  3.22538577e-02  2.35413089e-02\n",
      "  2.41707191e-02 -3.36233228e-02  1.23159681e-02  4.91958000e-02\n",
      " -3.63056175e-03  5.38355745e-02 -6.71821600e-03  3.22894827e-02\n",
      " -3.06671392e-02 -2.89372960e-03 -3.50479744e-02  2.22933739e-02\n",
      " -2.86794640e-02  1.74386911e-02  2.60494929e-02 -4.47383672e-02\n",
      " -3.56764086e-02  4.94075604e-02 -2.49941442e-02  3.06254383e-02\n",
      "  3.65705490e-02 -4.75099869e-02  9.54055861e-02  7.17731565e-02\n",
      "  2.47250544e-03 -3.03646736e-03 -4.61490266e-02 -1.40444387e-03\n",
      " -3.79740186e-02  3.93507145e-02  5.28404005e-02 -2.35811137e-02\n",
      "  1.80400759e-02  5.51967882e-03  4.07214239e-02  7.37764454e-03\n",
      " -4.32245210e-02 -1.01319289e-04 -5.63014008e-04 -6.07396383e-03\n",
      "  7.78836245e-03  1.28865596e-02 -7.90410116e-03  2.41904501e-02\n",
      "  4.95706052e-02 -3.53731476e-02  3.98773551e-02 -4.28182296e-02\n",
      " -3.40332016e-02  1.97178721e-02  2.38101389e-02 -4.07027937e-02\n",
      "  5.56895994e-02  2.75903326e-02  1.79133341e-02 -1.67071894e-02\n",
      " -1.84568446e-02 -1.37443200e-01  2.70468350e-02  4.03698646e-02\n",
      "  2.35622786e-02  1.24117946e-02 -1.93673361e-04 -5.88587113e-03\n",
      "  2.79836468e-02  4.86872625e-04  2.77232695e-02 -3.44817676e-02\n",
      "  3.85065866e-03 -1.54811768e-02  1.43960211e-02  4.94181141e-02\n",
      " -2.57736142e-03 -1.63217615e-02  8.99693556e-03  4.79981042e-02\n",
      " -5.52417804e-03  1.88653413e-02  3.55180912e-02 -1.59659218e-02\n",
      "  1.07992887e-02  3.03823743e-02 -3.48040485e-03 -9.86098676e-05\n",
      " -3.19962911e-02 -1.21783968e-02  2.45613437e-02 -1.78581718e-02\n",
      "  4.96926196e-02  3.44805345e-02  4.78606187e-02 -6.90714005e-05\n",
      " -1.38823288e-02  2.31318716e-02  3.53644900e-02 -6.28604228e-03\n",
      "  9.82104912e-02  1.20330229e-02 -4.22165245e-02  1.78470009e-03\n",
      " -4.52868678e-02 -2.14140862e-02  4.32019494e-02  1.81167889e-02\n",
      "  1.19066993e-02  5.87092433e-03 -1.83611959e-02  6.25104876e-03\n",
      "  4.23199311e-02 -1.64905116e-02 -3.53262573e-03  1.37523199e-02\n",
      " -1.92572139e-02 -1.14905275e-02  1.23109315e-02  6.92316331e-03\n",
      "  5.43082021e-02 -4.04235795e-02  6.01947308e-02 -6.57051727e-02\n",
      " -2.26963218e-02 -5.72740547e-02  2.14291606e-02  2.50696950e-02\n",
      "  6.25057593e-02 -3.65406019e-03  1.53118046e-02  2.10377425e-02\n",
      " -2.80685555e-02 -1.72606247e-04 -1.16026495e-02  2.28645988e-02\n",
      "  1.51809836e-02 -2.83769681e-03 -1.20714372e-02  3.22937481e-02\n",
      "  1.03990892e-02 -1.13716304e-01  2.00379780e-03 -1.71282068e-02\n",
      " -2.02631243e-02  2.31742281e-02 -4.64594178e-02 -4.56370227e-03\n",
      " -3.90361575e-03  6.14529215e-02 -1.57287568e-02 -1.65330693e-02\n",
      " -1.15091847e-02  5.91135770e-02 -1.05131501e-02 -2.82876194e-02\n",
      "  4.47768532e-02  2.75721122e-02  1.98661909e-02  1.57531798e-02\n",
      "  1.56298224e-02  5.09812497e-02 -8.98332447e-02  2.95256767e-02\n",
      " -4.71904092e-02  4.69473302e-02 -1.48733500e-02  5.33201359e-02\n",
      "  2.76460890e-02 -1.50074316e-02 -1.74990464e-02  2.41525378e-02\n",
      " -7.14384252e-03  3.79802994e-02  6.59084991e-02  2.72485260e-02\n",
      " -6.09228313e-02 -4.22026515e-02 -3.67401317e-02 -1.03949038e-02\n",
      "  2.30189152e-02  7.13304952e-02  6.63802400e-02  3.21959071e-02\n",
      "  6.70350343e-02  9.82797984e-03  4.84230407e-02 -9.76144150e-02\n",
      "  9.92414542e-03  5.26163913e-02 -5.35977706e-02 -2.88094915e-02\n",
      "  1.32489251e-02 -1.12644248e-02 -3.25128101e-02  3.61414105e-02\n",
      "  1.00533841e-02 -4.71723825e-02 -3.04719228e-02  3.92874852e-02\n",
      " -2.62540318e-02  1.46016981e-02  2.66484879e-02  1.82041079e-02\n",
      " -1.23663368e-02 -6.10120893e-02 -5.41326553e-02  5.14121428e-02\n",
      " -3.69011774e-03  3.30235362e-02 -3.31048816e-02  3.81242223e-02\n",
      "  1.84912253e-02 -4.12992435e-03  2.37468593e-02  2.38815565e-02\n",
      " -1.44724036e-03 -1.85977891e-02  2.14341488e-02  1.25216907e-02\n",
      "  6.94161234e-03 -7.62201697e-02 -5.06752282e-02 -2.19738204e-02\n",
      " -1.94583237e-02 -1.99730918e-02 -4.79164496e-02  3.92541252e-02\n",
      "  3.48152913e-04  6.72183111e-02  1.76312253e-02 -1.66496523e-02\n",
      " -3.41706611e-02  1.45442188e-02  3.31408940e-02 -9.26279929e-03\n",
      " -8.67001154e-03  1.42635554e-02  5.42405341e-03 -3.73927392e-02\n",
      "  1.17549784e-02 -2.45923456e-02 -2.16785409e-02 -2.80230027e-02\n",
      "  5.91567792e-02  3.19415182e-02 -1.16578806e-02  5.17382659e-02\n",
      " -4.15060185e-02  2.54556686e-02  2.25344338e-02  3.49391401e-02\n",
      " -1.43598141e-02 -4.05862890e-02  8.57110098e-02 -5.67115210e-02\n",
      "  2.12589204e-02  2.21710326e-03  4.71932068e-02  4.70276065e-02\n",
      " -6.54968098e-02 -2.02804944e-03 -5.16153267e-03 -2.19492102e-03\n",
      " -3.98756005e-02  2.05962397e-02  2.76179519e-02  1.80637352e-02\n",
      "  1.46687496e-02 -2.17032842e-02  1.32083716e-02 -3.83050591e-02\n",
      " -1.78749766e-02 -1.49132954e-02  1.65369995e-02  2.19244659e-02\n",
      "  2.97015030e-02 -2.85855178e-02  5.46310656e-02 -4.73888917e-03\n",
      " -1.68534853e-02  5.70277311e-02 -1.91400535e-02  6.43859385e-03\n",
      " -2.98855100e-02 -1.72295626e-02 -2.60613039e-02 -3.49884829e-03\n",
      " -1.73822585e-02 -3.29202525e-02  4.09569032e-02  2.84703393e-02]\n"
     ]
    }
   ],
   "source": [
    "# Load index with:\n",
    "index = faiss.read_index('index.v1')\n",
    "\n",
    "first_vector = index.reconstruct(0)\n",
    "print(first_vector)"
   ]
  },
  {
   "cell_type": "markdown",
   "id": "05d7cb6b",
   "metadata": {},
   "source": [
    "Finding favourite book to pass into the search engine:\n",
    "\n",
    "(In this case, we're using 'The Trial' by Franz Kafka, at position 566 in the dataframe)"
   ]
  },
  {
   "cell_type": "code",
   "execution_count": 66,
   "id": "b7b2f055",
   "metadata": {},
   "outputs": [
    {
     "name": "stdout",
     "output_type": "stream",
     "text": [
      "                                     title                    authors  \\\n",
      "575                     Sputnik Sweetheart            Haruki Murakami   \n",
      "576   South of the Border, West of the Sun            Haruki Murakami   \n",
      "577                  The Elephant Vanishes            Haruki Murakami   \n",
      "578                      Dance Dance Dance            Haruki Murakami   \n",
      "586                            Underground            Haruki Murakami   \n",
      "4049  South of the Border, West of the Sun            Haruki Murakami   \n",
      "5771                    Kafka on the Shore            Haruki Murakami   \n",
      "5783          Blind Willow, Sleeping Woman            Haruki Murakami   \n",
      "6613            The Wind-up Bird Chronicle  Haruki Murakami;Jay Rubin   \n",
      "\n",
      "               categories                                        description  \\\n",
      "575         Businesswomen  Twenty two year old, Sumire is in love for the...   \n",
      "576      Domestic fiction  Growing up in the suburbs in post-war Japan, i...   \n",
      "577                 Japan  When a man's favourite elephant vanishes, the ...   \n",
      "578   Crime investigation  Combining an offbeat cast of characters with M...   \n",
      "586                 Cults  This account of the 1995 gas attack on the Tok...   \n",
      "4049              Fiction  Years after their separation, two Japanese chi...   \n",
      "5771              Fiction  An unlikely alliance forms between Kafka Tamur...   \n",
      "5783              Fiction  From the surreal to the mundane, an anthology ...   \n",
      "6613              Fiction                                                NaN   \n",
      "\n",
      "      published_year  average_rating  num_pages  \\\n",
      "575           2002.0            3.82      229.0   \n",
      "576           2003.0            3.87      190.0   \n",
      "577           2003.0            3.86      327.0   \n",
      "578           2003.0            4.04      393.0   \n",
      "586           2003.0            3.90      309.0   \n",
      "4049          2000.0            3.87      213.0   \n",
      "5771          2006.0            4.13      467.0   \n",
      "5783          2007.0            3.84      362.0   \n",
      "6613          1999.0            4.17      609.0   \n",
      "\n",
      "                                 textual_representation  \n",
      "575   Title: Sputnik Sweetheart\\nAuthors: Haruki Mur...  \n",
      "576   Title: South of the Border, West of the Sun\\nA...  \n",
      "577   Title: The Elephant Vanishes\\nAuthors: Haruki ...  \n",
      "578   Title: Dance Dance Dance\\nAuthors: Haruki Mura...  \n",
      "586   Title: Underground\\nAuthors: Haruki Murakami\\n...  \n",
      "4049  Title: South of the Border, West of the Sun\\nA...  \n",
      "5771  Title: Kafka on the Shore\\nAuthors: Haruki Mur...  \n",
      "5783  Title: Blind Willow, Sleeping Woman\\nAuthors: ...  \n",
      "6613  Title: The Wind-up Bird Chronicle\\nAuthors: Ha...  \n"
     ]
    }
   ],
   "source": [
    "print(df[df['authors'].str.contains('Murakami', na=False)])\n"
   ]
  },
  {
   "cell_type": "markdown",
   "id": "82cc1f2a",
   "metadata": {},
   "source": [
    "Assigning to variable f_book"
   ]
  },
  {
   "cell_type": "code",
   "execution_count": 67,
   "id": "58fe37ef",
   "metadata": {},
   "outputs": [],
   "source": [
    "f_book = df.iloc[5771]"
   ]
  },
  {
   "cell_type": "code",
   "execution_count": 68,
   "id": "c0cf5067",
   "metadata": {},
   "outputs": [
    {
     "data": {
      "text/plain": [
       "'Title: Kafka on the Shore\\nAuthors: Haruki Murakami\\nCategories: Fiction\\nDescription: An unlikely alliance forms between Kafka Tamura, a fifteen-year-old runaway, and the aging Nakata, a man who has never recovered from a wartime affliction, as they embark on a surreal odyssey through a strange, fantastical world.\\nPublishing Year: 2006.0\\nAverage Rating: 4.13\\nNumber of Pages: 467.0\\n'"
      ]
     },
     "execution_count": 68,
     "metadata": {},
     "output_type": "execute_result"
    }
   ],
   "source": [
    "f_book['textual_representation']"
   ]
  },
  {
   "cell_type": "markdown",
   "id": "0ce89877",
   "metadata": {},
   "source": [
    "Send the book to the model to embed (Can be any book enterred by the user, complete with tags and description)"
   ]
  },
  {
   "cell_type": "code",
   "execution_count": 69,
   "id": "6812ebe1",
   "metadata": {},
   "outputs": [],
   "source": [
    "res = requests.post('http://localhost:11434/api/embeddings',\n",
    "                    json={\n",
    "                        'model': 'embeddinggemma',\n",
    "                        'prompt': f_book['textual_representation']\n",
    "                    })\n"
   ]
  },
  {
   "cell_type": "code",
   "execution_count": 70,
   "id": "aaed3c5b",
   "metadata": {},
   "outputs": [],
   "source": [
    "embedding = np.array([res.json()['embedding']], dtype='float32')"
   ]
  },
  {
   "cell_type": "code",
   "execution_count": 71,
   "id": "1510279b",
   "metadata": {},
   "outputs": [],
   "source": [
    "D, I = index.search(embedding, 5)"
   ]
  },
  {
   "cell_type": "code",
   "execution_count": 72,
   "id": "ee16c12d",
   "metadata": {},
   "outputs": [],
   "source": [
    "best_matches = np.array(df['textual_representation'])[I.flatten()]"
   ]
  },
  {
   "cell_type": "code",
   "execution_count": 73,
   "id": "4ad23c1f",
   "metadata": {},
   "outputs": [
    {
     "name": "stdout",
     "output_type": "stream",
     "text": [
      "Title: Kafka on the Shore\n",
      "Authors: Haruki Murakami\n",
      "Categories: Fiction\n",
      "Description: An unlikely alliance forms between Kafka Tamura, a fifteen-year-old runaway, and the aging Nakata, a man who has never recovered from a wartime affliction, as they embark on a surreal odyssey through a strange, fantastical world.\n",
      "Publishing Year: 2006.0\n",
      "Average Rating: 4.13\n",
      "Number of Pages: 467.0\n",
      "\n",
      "\n",
      "Title: The Wind-up Bird Chronicle\n",
      "Authors: Haruki Murakami;Jay Rubin\n",
      "Categories: Fiction\n",
      "Description: nan\n",
      "Publishing Year: 1999.0\n",
      "Average Rating: 4.17\n",
      "Number of Pages: 609.0\n",
      "\n",
      "\n",
      "Title: Blind Willow, Sleeping Woman\n",
      "Authors: Haruki Murakami\n",
      "Categories: Fiction\n",
      "Description: From the surreal to the mundane, an anthology of short fiction captures a full range of human experience, emotion, and relationship in works that chronicle a chance reunion in Italy, a holiday in Hawaii, and a romantic exile in Greece.\n",
      "Publishing Year: 2007.0\n",
      "Average Rating: 3.84\n",
      "Number of Pages: 362.0\n",
      "\n",
      "\n",
      "Title: South of the Border, West of the Sun\n",
      "Authors: Haruki Murakami\n",
      "Categories: Fiction\n",
      "Description: Years after their separation, two Japanese childhood sweethearts are reunited, and happily married Hajime finds himself prepared to risk everything for the chance to be with his now mysterious first love Shinamoto. Reprint. 20,000 first printing.\n",
      "Publishing Year: 2000.0\n",
      "Average Rating: 3.87\n",
      "Number of Pages: 213.0\n",
      "\n",
      "\n",
      "Title: The Elephant Vanishes\n",
      "Authors: Haruki Murakami\n",
      "Categories: Japan\n",
      "Description: When a man's favourite elephant vanishes, the balance of his whole life is subtly upset; a couple's midnight hunger pangs drive them to hold up a McDonald's; a woman finds she is irresistible to a small green monster that burrows through her front garden; an insomniac wife wakes up to a twilight world of semi-consciousness in which anything seems possible - even death. In every one of the stories that make up The Elephant Vanishes, Murakami makes a determined assault on the normal. He has a deadpan genius for dislocating realities to uncover the surreal in the everyday, the extraordinary in the ordinary.\n",
      "Publishing Year: 2003.0\n",
      "Average Rating: 3.86\n",
      "Number of Pages: 327.0\n",
      "\n",
      "\n"
     ]
    }
   ],
   "source": [
    "for match in best_matches:\n",
    "    print(match)\n",
    "    print()"
   ]
  },
  {
   "cell_type": "code",
   "execution_count": 74,
   "id": "380d4f7f",
   "metadata": {},
   "outputs": [],
   "source": [
    "recommended_books = df.iloc[I.flatten()]\n",
    "filtered_books = recommended_books[~recommended_books['authors'].str.contains(f_book['authors'], na=False)]"
   ]
  }
 ],
 "metadata": {
  "kernelspec": {
   "display_name": "venv",
   "language": "python",
   "name": "python3"
  },
  "language_info": {
   "codemirror_mode": {
    "name": "ipython",
    "version": 3
   },
   "file_extension": ".py",
   "mimetype": "text/x-python",
   "name": "python",
   "nbconvert_exporter": "python",
   "pygments_lexer": "ipython3",
   "version": "3.13.7"
  }
 },
 "nbformat": 4,
 "nbformat_minor": 5
}
